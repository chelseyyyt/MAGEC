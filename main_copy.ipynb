{
 "cells": [
  {
   "cell_type": "markdown",
   "metadata": {},
   "source": [
    "### MAIN DOCUMENT"
   ]
  },
  {
   "cell_type": "code",
   "execution_count": 1,
   "metadata": {},
   "outputs": [],
   "source": [
    "#import libraries\n",
    "\n",
    "import pandas as pd\n",
    "import numpy as np\n",
    "import matplotlib.pyplot as plt\n",
    "import seaborn as sns\n",
    "from sklearn.preprocessing import MinMaxScaler"
   ]
  },
  {
   "cell_type": "markdown",
   "metadata": {},
   "source": [
    "### Load Data"
   ]
  },
  {
   "cell_type": "code",
   "execution_count": 104,
   "metadata": {},
   "outputs": [
    {
     "name": "stdout",
     "output_type": "stream",
     "text": [
      "<class 'pandas.core.frame.DataFrame'>\n",
      "RangeIndex: 8750 entries, 0 to 8749\n",
      "Data columns (total 4 columns):\n",
      " #   Column                        Non-Null Count  Dtype  \n",
      "---  ------                        --------------  -----  \n",
      " 0   state_fip_code                8750 non-null   float64\n",
      " 1   YearMonth                     8750 non-null   object \n",
      " 2   Year                          8750 non-null   int32  \n",
      " 3   median_estimated_home_values  8750 non-null   float64\n",
      "dtypes: float64(2), int32(1), object(1)\n",
      "memory usage: 239.4+ KB\n",
      "None\n"
     ]
    }
   ],
   "source": [
    "#house pricing data\n",
    "home_prices = pd.read_csv(\"Zillow Data.csv\", parse_dates=[\"date\"])\n",
    "home_prices = home_prices[home_prices[\"date\"].dt.year.between(2010, 2024)]\n",
    "home_prices[\"YearMonth\"] = home_prices[\"date\"].dt.to_period(\"M\")\n",
    "home_prices[\"Year\"]= home_prices[\"date\"].dt.year\n",
    "home_prices_avg = home_prices.groupby([\"state_fip_code\", \"YearMonth\",\"Year\"])[\"median_estimated_home_values\"].mean().reset_index()\n",
    "home_prices_avg[\"YearMonth\"] = home_prices_avg[\"YearMonth\"].astype(str)\n",
    "home_prices_avg.to_csv(\"average_home_values_by_state_2010_2024.csv\", index=False)\n",
    "print(home_prices_avg.info())"
   ]
  },
  {
   "cell_type": "code",
   "execution_count": 105,
   "metadata": {},
   "outputs": [
    {
     "name": "stdout",
     "output_type": "stream",
     "text": [
      "      state_fip_code YearMonth  Year  median_estimated_home_values\n",
      "120              1.0   2020-01  2020                 141977.229373\n",
      "121              1.0   2020-02  2020                 142771.948688\n",
      "122              1.0   2020-03  2020                 143612.258815\n",
      "123              1.0   2020-04  2020                 144584.551768\n",
      "124              1.0   2020-05  2020                 145502.789513\n",
      "...              ...       ...   ...                           ...\n",
      "8702            56.0   2020-08  2020                 287442.089280\n",
      "8703            56.0   2020-09  2020                 291148.627309\n",
      "8704            56.0   2020-10  2020                 294810.527893\n",
      "8705            56.0   2020-11  2020                 297780.861082\n",
      "8706            56.0   2020-12  2020                 300042.146836\n",
      "\n",
      "[600 rows x 4 columns]\n"
     ]
    }
   ],
   "source": [
    "print(home_prices_avg[home_prices_avg[\"Year\"]==2020])"
   ]
  },
  {
   "cell_type": "code",
   "execution_count": 119,
   "metadata": {},
   "outputs": [
    {
     "name": "stderr",
     "output_type": "stream",
     "text": [
      "/var/folders/vk/h7pf2xqx4rz1kbr6tq5jpk6m0000gn/T/ipykernel_16061/1158067725.py:1: DtypeWarning: Columns (8) have mixed types. Specify dtype option on import or set low_memory=False.\n",
      "  fred = pd.read_csv(\"The Federal Reserve Economic Data.csv\")\n"
     ]
    },
    {
     "name": "stdout",
     "output_type": "stream",
     "text": [
      "<class 'pandas.core.frame.DataFrame'>\n",
      "Index: 43848 entries, 6231 to 2027686\n",
      "Data columns (total 4 columns):\n",
      " #   Column          Non-Null Count  Dtype  \n",
      "---  ------          --------------  -----  \n",
      " 0   YearMonth       43848 non-null  object \n",
      " 1   Value           43848 non-null  float64\n",
      " 2   Year            43848 non-null  int32  \n",
      " 3   state_fip_code  43848 non-null  float64\n",
      "dtypes: float64(2), int32(1), object(1)\n",
      "memory usage: 1.5+ MB\n",
      "None\n",
      "     YearMonth    Value  Year  state_fip_code\n",
      "6231   2010-01  33849.0  2010             1.0\n",
      "6232   2011-01  34887.0  2011             1.0\n",
      "6233   2012-01  35564.0  2012             1.0\n",
      "6234   2013-01  35713.0  2013             1.0\n",
      "6235   2014-01  36729.0  2014             1.0\n"
     ]
    }
   ],
   "source": [
    "fred = pd.read_csv(\"The Federal Reserve Economic Data.csv\")\n",
    "fred['Date'] = pd.to_datetime(fred['Date'], errors='coerce')\n",
    "fred = fred[fred[\"Date\"].dt.year.between(2010, 2024)]\n",
    "fred[\"YearMonth\"] = fred[\"Date\"].dt.to_period(\"M\")\n",
    "fred[\"YearMonth\"] = fred[\"YearMonth\"].astype(str)\n",
    "fred[\"Year\"]= fred[\"Date\"].dt.year\n",
    "\n",
    "fred = fred[(fred['Indicator'] == 'Per Capita Income') & (fred['Cadence'] == 'Annual')]\n",
    "df_fred = fred[[\"YearMonth\", \"Value\", \"Year\", \"state_fip_code\"]]\n",
    "print(df_fred.info())\n",
    "print(df_fred.head())\n"
   ]
  },
  {
   "cell_type": "code",
   "execution_count": 120,
   "metadata": {},
   "outputs": [
    {
     "name": "stdout",
     "output_type": "stream",
     "text": [
      "   Year fips  \\\n",
      "0  2013    1   \n",
      "1  2013    2   \n",
      "2  2013    4   \n",
      "3  2013    5   \n",
      "4  2013    6   \n",
      "\n",
      "   estimate_income_and_benefits_total_households_median_household_income_(dollars)  \n",
      "0                                              42849                                \n",
      "1                                              72237                                \n",
      "2                                              48510                                \n",
      "3                                              40511                                \n",
      "4                                              60190                                \n"
     ]
    },
    {
     "name": "stderr",
     "output_type": "stream",
     "text": [
      "/var/folders/vk/h7pf2xqx4rz1kbr6tq5jpk6m0000gn/T/ipykernel_16061/2002407691.py:2: DtypeWarning: Columns (2,3,4,5,6,7,8,9,24,90,141,142) have mixed types. Specify dtype option on import or set low_memory=False.\n",
      "  acs = pd.read_csv(\"dp03_1yr.csv\")\n",
      "/var/folders/vk/h7pf2xqx4rz1kbr6tq5jpk6m0000gn/T/ipykernel_16061/2002407691.py:4: SettingWithCopyWarning: \n",
      "A value is trying to be set on a copy of a slice from a DataFrame.\n",
      "Try using .loc[row_indexer,col_indexer] = value instead\n",
      "\n",
      "See the caveats in the documentation: https://pandas.pydata.org/pandas-docs/stable/user_guide/indexing.html#returning-a-view-versus-a-copy\n",
      "  df_selected[\"fips\"]=df_selected[\"fips\"].astype(str)\n",
      "/var/folders/vk/h7pf2xqx4rz1kbr6tq5jpk6m0000gn/T/ipykernel_16061/2002407691.py:5: SettingWithCopyWarning: \n",
      "A value is trying to be set on a copy of a slice from a DataFrame.\n",
      "Try using .loc[row_indexer,col_indexer] = value instead\n",
      "\n",
      "See the caveats in the documentation: https://pandas.pydata.org/pandas-docs/stable/user_guide/indexing.html#returning-a-view-versus-a-copy\n",
      "  df_selected[\"fips\"]=df_selected[\"fips\"].str[:2]\n"
     ]
    }
   ],
   "source": [
    "#income and rent data\n",
    "acs = pd.read_csv(\"dp03_1yr.csv\")\n",
    "df_selected = acs[[\"Year\",\"fips\",\"estimate_income_and_benefits_total_households_median_household_income_(dollars)\"]]\n",
    "df_selected[\"fips\"]=df_selected[\"fips\"].astype(str)\n",
    "df_selected[\"fips\"]=df_selected[\"fips\"].str[:2]\n",
    "\n",
    "# Display first few rows\n",
    "print(df_selected.head())\n",
    "\n"
   ]
  },
  {
   "cell_type": "code",
   "execution_count": 87,
   "metadata": {},
   "outputs": [
    {
     "name": "stdout",
     "output_type": "stream",
     "text": [
      "   Year fips  \\\n",
      "0  2013    1   \n",
      "1  2013   10   \n",
      "2  2013   11   \n",
      "3  2013   12   \n",
      "4  2013   13   \n",
      "\n",
      "   estimate_income_and_benefits_total_households_median_household_income_(dollars)  \n",
      "0                                       42849.000000                                \n",
      "1                                       46676.666667                                \n",
      "2                                       51517.555556                                \n",
      "3                                       46566.000000                                \n",
      "4                                       49484.702703                                \n"
     ]
    }
   ],
   "source": [
    "# Group by FIPS and aggregate relevant columns\n",
    "df_grouped = df_selected.groupby([\"Year\",\"fips\"]).agg({\n",
    "    \"estimate_income_and_benefits_total_households_median_household_income_(dollars)\": \"mean\"  # Compute sum of income per FIPS\n",
    "}).reset_index()\n",
    "\n",
    "# Display results\n",
    "print(df_grouped.head())"
   ]
  },
  {
   "cell_type": "code",
   "execution_count": 88,
   "metadata": {},
   "outputs": [
    {
     "name": "stdout",
     "output_type": "stream",
     "text": [
      "      Year fips  \\\n",
      "51    2013   72   \n",
      "869   2013   72   \n",
      "870   2013   72   \n",
      "871   2013   72   \n",
      "872   2013   72   \n",
      "...    ...  ...   \n",
      "8890  2023   72   \n",
      "8891  2023   72   \n",
      "8892  2023   72   \n",
      "8893  2023   72   \n",
      "8894  2023   72   \n",
      "\n",
      "     estimate_residence_1_year_ago_population_1_year_and_over_different_house_in_the_u.s._different_county_different_state  \n",
      "51                                                  NaN                                                                     \n",
      "869                                                 NaN                                                                     \n",
      "870                                                 NaN                                                                     \n",
      "871                                                 NaN                                                                     \n",
      "872                                                 NaN                                                                     \n",
      "...                                                 ...                                                                     \n",
      "8890                                                NaN                                                                     \n",
      "8891                                                NaN                                                                     \n",
      "8892                                                NaN                                                                     \n",
      "8893                                                NaN                                                                     \n",
      "8894                                                NaN                                                                     \n",
      "\n",
      "[120 rows x 3 columns]\n"
     ]
    },
    {
     "name": "stderr",
     "output_type": "stream",
     "text": [
      "/var/folders/vk/h7pf2xqx4rz1kbr6tq5jpk6m0000gn/T/ipykernel_16061/1501943105.py:3: DtypeWarning: Columns (3,5,7,9,15,16,17,76,77,78,79,80,81,82,83,91,92,93,94) have mixed types. Specify dtype option on import or set low_memory=False.\n",
      "  demographic = pd.read_csv(\"dp02_1yr.csv\")\n",
      "/var/folders/vk/h7pf2xqx4rz1kbr6tq5jpk6m0000gn/T/ipykernel_16061/1501943105.py:7: SettingWithCopyWarning: \n",
      "A value is trying to be set on a copy of a slice from a DataFrame.\n",
      "Try using .loc[row_indexer,col_indexer] = value instead\n",
      "\n",
      "See the caveats in the documentation: https://pandas.pydata.org/pandas-docs/stable/user_guide/indexing.html#returning-a-view-versus-a-copy\n",
      "  df_filter[\"fips\"]=df_filter[\"fips\"].astype(str)\n",
      "/var/folders/vk/h7pf2xqx4rz1kbr6tq5jpk6m0000gn/T/ipykernel_16061/1501943105.py:8: SettingWithCopyWarning: \n",
      "A value is trying to be set on a copy of a slice from a DataFrame.\n",
      "Try using .loc[row_indexer,col_indexer] = value instead\n",
      "\n",
      "See the caveats in the documentation: https://pandas.pydata.org/pandas-docs/stable/user_guide/indexing.html#returning-a-view-versus-a-copy\n",
      "  df_filter[\"fips\"]=df_filter[\"fips\"].str[:2]\n"
     ]
    }
   ],
   "source": [
    "#inbound migration\n",
    "\n",
    "demographic = pd.read_csv(\"dp02_1yr.csv\")\n",
    "\n",
    "df_filter = demographic[[\"Year\",\"fips\",\"estimate_residence_1_year_ago_population_1_year_and_over_different_house_in_the_u.s._different_county_different_state\"]]\n",
    "\n",
    "df_filter[\"fips\"]=df_filter[\"fips\"].astype(str)\n",
    "df_filter[\"fips\"]=df_filter[\"fips\"].str[:2]\n",
    "\n",
    "\n",
    "print(df_filter[df_filter.isna().any(axis=1)])"
   ]
  },
  {
   "cell_type": "code",
   "execution_count": 93,
   "metadata": {},
   "outputs": [
    {
     "name": "stdout",
     "output_type": "stream",
     "text": [
      "   Year fips  \\\n",
      "0  2013    1   \n",
      "1  2013   10   \n",
      "2  2013   11   \n",
      "3  2013   12   \n",
      "4  2013   13   \n",
      "\n",
      "  estimate_residence_1_year_ago_population_1_year_and_over_different_house_in_the_u.s._different_county_different_state  \n",
      "0                                           104102.0                                                                     \n",
      "1                                            36790.0                                                                     \n",
      "2                                            46571.0                                                                     \n",
      "3                                           529406.0                                                                     \n",
      "4                                           278972.0                                                                     \n"
     ]
    }
   ],
   "source": [
    "# Group by FIPS and aggregate relevant columns\n",
    "df_group = df_filter.groupby([\"Year\",\"fips\"]).agg({\n",
    "    \"estimate_residence_1_year_ago_population_1_year_and_over_different_house_in_the_u.s._different_county_different_state\": \"first\"  \n",
    "}).reset_index()\n",
    "\n",
    "# Display results\n",
    "print(df_group.head())"
   ]
  },
  {
   "cell_type": "code",
   "execution_count": null,
   "metadata": {},
   "outputs": [],
   "source": [
    "google_trends = pd.read_csv(\"google_trends.csv\")\n",
    "\n",
    "# Inspect data\n",
    "print(google_trends.head())\n",
    "\n",
    "# Rename for clarity\n",
    "google_trends.rename(columns={'buy_a_house_fast': 'buy_fast', 'foreclosure_help': 'foreclosure'}, inplace=True)"
   ]
  },
  {
   "cell_type": "code",
   "execution_count": 129,
   "metadata": {},
   "outputs": [
    {
     "name": "stdout",
     "output_type": "stream",
     "text": [
      "   FIPS YearMonth  Year  median_estimated_home_values  Per Capita Income\n",
      "0     1   2010-01  2010                 118294.358094            33849.0\n",
      "1     1   2010-01  2010                 118294.358094            33686.0\n",
      "2     1   2010-01  2010                 118294.358094            36797.0\n",
      "3     1   2010-01  2010                 118294.358094            27743.0\n",
      "4     1   2010-01  2010                 118294.358094            25072.0\n",
      "       FIPS YearMonth  Year  median_estimated_home_values  Per Capita Income\n",
      "42933    56   2023-01  2023                 423151.724278            64115.0\n",
      "42934    56   2023-01  2023                 423151.724278           471751.0\n",
      "42935    56   2023-01  2023                 423151.724278            49350.0\n",
      "42936    56   2023-01  2023                 423151.724278            57474.0\n",
      "42937    56   2023-01  2023                 423151.724278            54380.0\n"
     ]
    },
    {
     "name": "stderr",
     "output_type": "stream",
     "text": [
      "/var/folders/vk/h7pf2xqx4rz1kbr6tq5jpk6m0000gn/T/ipykernel_16061/2125870592.py:5: SettingWithCopyWarning: \n",
      "A value is trying to be set on a copy of a slice from a DataFrame\n",
      "\n",
      "See the caveats in the documentation: https://pandas.pydata.org/pandas-docs/stable/user_guide/indexing.html#returning-a-view-versus-a-copy\n",
      "  df_fred.rename(columns={\"state_fip_code\": \"FIPS\"}, inplace=True)\n",
      "/var/folders/vk/h7pf2xqx4rz1kbr6tq5jpk6m0000gn/T/ipykernel_16061/2125870592.py:6: SettingWithCopyWarning: \n",
      "A value is trying to be set on a copy of a slice from a DataFrame\n",
      "\n",
      "See the caveats in the documentation: https://pandas.pydata.org/pandas-docs/stable/user_guide/indexing.html#returning-a-view-versus-a-copy\n",
      "  df_fred.rename(columns={\"Value\": \"Per Capita Income\"}, inplace=True)\n",
      "/var/folders/vk/h7pf2xqx4rz1kbr6tq5jpk6m0000gn/T/ipykernel_16061/2125870592.py:12: SettingWithCopyWarning: \n",
      "A value is trying to be set on a copy of a slice from a DataFrame.\n",
      "Try using .loc[row_indexer,col_indexer] = value instead\n",
      "\n",
      "See the caveats in the documentation: https://pandas.pydata.org/pandas-docs/stable/user_guide/indexing.html#returning-a-view-versus-a-copy\n",
      "  df_fred[\"FIPS\"]=df_fred[\"FIPS\"].astype(int)\n"
     ]
    }
   ],
   "source": [
    "# Rename FIPS columns to ensure consistency\n",
    "home_prices_avg.rename(columns={\"state_fip_code\": \"FIPS\"}, inplace=True)\n",
    "#df_grouped.rename(columns={\"fips\": \"FIPS\"}, inplace=True)\n",
    "df_group.rename(columns={\"fips\": \"FIPS\"}, inplace=True)\n",
    "df_fred.rename(columns={\"state_fip_code\": \"FIPS\"}, inplace=True)\n",
    "df_fred.rename(columns={\"Value\": \"Per Capita Income\"}, inplace=True)\n",
    "\n",
    "# Ensure Year is in the same format (integer)\n",
    "home_prices_avg[\"FIPS\"] = home_prices_avg[\"FIPS\"].astype(int)\n",
    "#df_grouped[\"FIPS\"] = df_grouped[\"FIPS\"].astype(int)\n",
    "df_group[\"FIPS\"] = df_group[\"FIPS\"].astype(int)\n",
    "df_fred[\"FIPS\"]=df_fred[\"FIPS\"].astype(int)\n",
    "\n",
    "# Merge home values with income data on Year and FIPS\n",
    "df_merged = pd.merge(home_prices_avg, df_fred, on=[\"YearMonth\",\"Year\", \"FIPS\"], how=\"inner\")\n",
    "\n",
    "# Merge the result with migration data (2013-2023)\n",
    "#df_merged = pd.merge(df_merged, df_group, on=[\"Year\", \"FIPS\"], how=\"inner\")\n",
    "\n",
    "# Display merged dataset\n",
    "print(df_merged.head())\n",
    "print(df_merged.tail())\n",
    "\n"
   ]
  },
  {
   "cell_type": "markdown",
   "metadata": {},
   "source": [
    "### Feature Engineering"
   ]
  },
  {
   "cell_type": "code",
   "execution_count": 135,
   "metadata": {},
   "outputs": [
    {
     "name": "stdout",
     "output_type": "stream",
     "text": [
      "<class 'pandas.core.frame.DataFrame'>\n",
      "RangeIndex: 42938 entries, 0 to 42937\n",
      "Data columns (total 7 columns):\n",
      " #   Column                        Non-Null Count  Dtype  \n",
      "---  ------                        --------------  -----  \n",
      " 0   FIPS                          42938 non-null  int64  \n",
      " 1   YearMonth                     42938 non-null  object \n",
      " 2   Year                          42938 non-null  int32  \n",
      " 3   median_estimated_home_values  42938 non-null  float64\n",
      " 4   Per Capita Income             42938 non-null  float64\n",
      " 5   PIR                           42938 non-null  float64\n",
      " 6   overvalued                    42938 non-null  int64  \n",
      "dtypes: float64(3), int32(1), int64(2), object(1)\n",
      "memory usage: 2.1+ MB\n",
      "None\n",
      "       FIPS YearMonth  Year  median_estimated_home_values  Per Capita Income  \\\n",
      "6         1   2010-01  2010                 118294.358094            23404.0   \n",
      "822       1   2022-01  2022                 181416.578278            33429.0   \n",
      "888       1   2023-01  2023                 201682.165253            39835.0   \n",
      "890       1   2023-01  2023                 201682.165253            36061.0   \n",
      "898       1   2023-01  2023                 201682.165253            39082.0   \n",
      "...     ...       ...   ...                           ...                ...   \n",
      "42932    56   2023-01  2023                 423151.724278            70620.0   \n",
      "42933    56   2023-01  2023                 423151.724278            64115.0   \n",
      "42935    56   2023-01  2023                 423151.724278            49350.0   \n",
      "42936    56   2023-01  2023                 423151.724278            57474.0   \n",
      "42937    56   2023-01  2023                 423151.724278            54380.0   \n",
      "\n",
      "            PIR  overvalued  \n",
      "6      5.054450           1  \n",
      "822    5.426922           1  \n",
      "888    5.062939           1  \n",
      "890    5.592806           1  \n",
      "898    5.160487           1  \n",
      "...         ...         ...  \n",
      "42932  5.991953           1  \n",
      "42933  6.599887           1  \n",
      "42935  8.574503           1  \n",
      "42936  7.362490           1  \n",
      "42937  7.781385           1  \n",
      "\n",
      "[9882 rows x 7 columns]\n"
     ]
    }
   ],
   "source": [
    "#Price to income ratio and price to rent ratio (baselines)\n",
    "df_merged[\"PIR\"] = df_merged[\"median_estimated_home_values\"] / df_merged[\"Per Capita Income\"]\n",
    "\n",
    "# Flag potential overvaluation\n",
    "df_merged[\"overvalued\"] = (df_merged[\"PIR\"] > 5).astype(int)\n",
    "\n",
    "# Check distribution\n",
    "print(df_merged.info())\n",
    "print(df_merged[df_merged[\"overvalued\"]==1])"
   ]
  },
  {
   "cell_type": "code",
   "execution_count": null,
   "metadata": {},
   "outputs": [],
   "source": [
    "#price growth vs. income growth\n",
    "df[\"price_income_growth_diff\"] = df[\"home_price\"].pct_change() - df[\"income\"].pct_change()\n",
    "\n",
    "# Flag regions where home prices are rising significantly faster than incomes\n",
    "df[\"high_growth_risk\"] = (df[\"price_income_growth_diff\"] > 0.1).astype(int)\n",
    "\n",
    "# Check flagged cases\n",
    "print(df[[\"ZIP_code\", \"price_income_growth_diff\", \"high_growth_risk\"]].head())"
   ]
  },
  {
   "cell_type": "code",
   "execution_count": null,
   "metadata": {},
   "outputs": [],
   "source": [
    "#search trends\n",
    "# Compute a speculative sentiment score\n",
    "df[\"speculation_score\"] = df[\"buy_fast\"] - df[\"foreclosure\"]\n",
    "\n",
    "# Flag speculative markets\n",
    "df[\"speculative_market\"] = (df[\"speculation_score\"] > 0).astype(int)\n",
    "\n",
    "print(df[[\"ZIP_code\", \"speculation_score\", \"speculative_market\"]].head())"
   ]
  },
  {
   "cell_type": "code",
   "execution_count": null,
   "metadata": {},
   "outputs": [],
   "source": [
    "#Normalize features\n",
    "scaler = MinMaxScaler()\n",
    "df[[\"PIR\", \"PRR\", \"price_income_growth_diff\", \"speculation_score\"]] = scaler.fit_transform(df[[\"PIR\", \"PRR\", \"price_income_growth_diff\", \"speculation_score\"]])\n",
    "\n",
    "print(df.head())"
   ]
  },
  {
   "cell_type": "markdown",
   "metadata": {},
   "source": [
    "### Data Cleaning"
   ]
  },
  {
   "cell_type": "code",
   "execution_count": null,
   "metadata": {},
   "outputs": [],
   "source": [
    "# Identify missing values\n",
    "print(df.isnull().sum())\n",
    "\n",
    "# Fill missing values with median values (FIND WHATS BEST)\n",
    "df.fillna(df.median(), inplace=True)"
   ]
  },
  {
   "cell_type": "code",
   "execution_count": null,
   "metadata": {},
   "outputs": [],
   "source": [
    "# save data\n",
    "df.to_csv(\"processed_housing_data.csv\", index=False)\n",
    "print(\"Processed data saved successfully!\")"
   ]
  },
  {
   "cell_type": "markdown",
   "metadata": {},
   "source": [
    "## Exploratory Data Analysis"
   ]
  },
  {
   "cell_type": "code",
   "execution_count": null,
   "metadata": {},
   "outputs": [],
   "source": [
    "import seaborn as sns\n",
    "import matplotlib.pyplot as plt\n",
    "\n",
    "# Set style\n",
    "sns.set(style=\"whitegrid\")\n",
    "\n",
    "# Plot histograms of key features\n",
    "df[[\"PIR\", \"PRR\", \"price_income_growth_diff\", \"speculation_score\"]].hist(bins=30, figsize=(12, 6))\n",
    "plt.suptitle(\"Feature Distributions\")\n",
    "plt.show()"
   ]
  },
  {
   "cell_type": "code",
   "execution_count": null,
   "metadata": {},
   "outputs": [],
   "source": [
    "#correlation heatmap\n",
    "plt.figure(figsize=(10,6))\n",
    "sns.heatmap(df[[\"PIR\", \"PRR\", \"price_income_growth_diff\", \"speculation_score\"]].corr(), annot=True, cmap=\"coolwarm\", fmt=\".2f\")\n",
    "plt.title(\"Correlation Heatmap of Key Features\")\n",
    "plt.show()"
   ]
  },
  {
   "cell_type": "code",
   "execution_count": null,
   "metadata": {},
   "outputs": [],
   "source": [
    "#geographic choropleth map\n",
    "import geopandas as gpd\n",
    "\n",
    "# Load a U.S. shapefile (or use a dataset with latitude & longitude)\n",
    "us_map = gpd.read_file(\"us_states_shapefile.shp\")\n",
    "\n",
    "# Merge with dataset\n",
    "merged = us_map.merge(df, left_on=\"state_name\", right_on=\"state\", how=\"left\")\n",
    "\n",
    "# Plot affordability risk\n",
    "fig, ax = plt.subplots(figsize=(12, 8))\n",
    "merged.plot(column=\"PIR\", cmap=\"Reds\", linewidth=0.8, edgecolor=\"black\", legend=True, ax=ax)\n",
    "plt.title(\"Price-to-Income Ratio Across U.S. States\")\n",
    "plt.show()"
   ]
  }
 ],
 "metadata": {
  "kernelspec": {
   "display_name": "base",
   "language": "python",
   "name": "python3"
  },
  "language_info": {
   "codemirror_mode": {
    "name": "ipython",
    "version": 3
   },
   "file_extension": ".py",
   "mimetype": "text/x-python",
   "name": "python",
   "nbconvert_exporter": "python",
   "pygments_lexer": "ipython3",
   "version": "3.11.7"
  }
 },
 "nbformat": 4,
 "nbformat_minor": 2
}
