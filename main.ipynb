{
 "cells": [
  {
   "cell_type": "markdown",
   "metadata": {},
   "source": [
    "### MAIN DOCUMENT"
   ]
  },
  {
   "cell_type": "code",
   "execution_count": 1,
   "metadata": {},
   "outputs": [],
   "source": [
    "#import libraries\n",
    "\n",
    "import pandas as pd\n",
    "import numpy as np\n",
    "import matplotlib.pyplot as plt\n",
    "import seaborn as sns\n",
    "from sklearn.preprocessing import MinMaxScaler"
   ]
  },
  {
   "cell_type": "markdown",
   "metadata": {},
   "source": [
    "# Load Data"
   ]
  },
  {
   "cell_type": "code",
   "execution_count": null,
   "metadata": {},
   "outputs": [],
   "source": [
    "#pricing data\n",
    "zillow = pd.read_csv(\"zillow_data.csv\")\n",
    "print(zillow.head())"
   ]
  },
  {
   "cell_type": "code",
   "execution_count": null,
   "metadata": {},
   "outputs": [],
   "source": [
    "#income and rent data\n",
    "acs = pd.read_csv(\"dp03_1yr.csv\")\n",
    "print(acs.head())"
   ]
  },
  {
   "cell_type": "code",
   "execution_count": null,
   "metadata": {},
   "outputs": [],
   "source": [
    "demographic = pd.read_csv(\"dp02_1yer.csv\")\n",
    "print(demographic.head())"
   ]
  },
  {
   "cell_type": "code",
   "execution_count": null,
   "metadata": {},
   "outputs": [],
   "source": [
    "google_trends = pd.read_csv(\"google_trends.csv\")\n",
    "\n",
    "# Inspect data\n",
    "print(google_trends.head())\n",
    "\n",
    "# Rename for clarity\n",
    "google_trends.rename(columns={'buy_a_house_fast': 'buy_fast', 'foreclosure_help': 'foreclosure'}, inplace=True)"
   ]
  },
  {
   "cell_type": "code",
   "execution_count": null,
   "metadata": {},
   "outputs": [],
   "source": [
    "# merge for states\n",
    "df = zillow.merge(acs, on=\"\", how=\"inner\")\\\n",
    "           .merge(demographic, on=\"\", how=\"left\")\\\n",
    "           .merge(google_trends, on=\"\", how=\"left\")\n",
    "\n",
    "# Check merged dataset\n",
    "print(df.head())"
   ]
  },
  {
   "cell_type": "markdown",
   "metadata": {},
   "source": [
    "# Feature Engineering"
   ]
  },
  {
   "cell_type": "code",
   "execution_count": null,
   "metadata": {},
   "outputs": [],
   "source": [
    "#Price to income ratio and price to rent ratio (baselines)\n",
    "df[\"PIR\"] = df[\"home_price\"] / df[\"income\"]\n",
    "df[\"PRR\"] = df[\"home_price\"] / (df[\"rent\"] * 12)  # Convert rent to annual rent\n",
    "\n",
    "# Flag potential overvaluation\n",
    "df[\"overvalued\"] = ((df[\"PIR\"] > 5) & (df[\"PRR\"] > 25)).astype(int)\n",
    "\n",
    "# Check distribution\n",
    "print(df[[\"ZIP_code\", \"PIR\", \"PRR\", \"overvalued\"]].head())"
   ]
  },
  {
   "cell_type": "code",
   "execution_count": null,
   "metadata": {},
   "outputs": [],
   "source": [
    "#price growth vs. income growth\n",
    "df[\"price_income_growth_diff\"] = df[\"home_price\"].pct_change() - df[\"income\"].pct_change()\n",
    "\n",
    "# Flag regions where home prices are rising significantly faster than incomes\n",
    "df[\"high_growth_risk\"] = (df[\"price_income_growth_diff\"] > 0.1).astype(int)\n",
    "\n",
    "# Check flagged cases\n",
    "print(df[[\"ZIP_code\", \"price_income_growth_diff\", \"high_growth_risk\"]].head())"
   ]
  },
  {
   "cell_type": "code",
   "execution_count": null,
   "metadata": {},
   "outputs": [],
   "source": [
    "#search trends\n",
    "# Compute a speculative sentiment score\n",
    "df[\"speculation_score\"] = df[\"buy_fast\"] - df[\"foreclosure\"]\n",
    "\n",
    "# Flag speculative markets\n",
    "df[\"speculative_market\"] = (df[\"speculation_score\"] > 0).astype(int)\n",
    "\n",
    "print(df[[\"ZIP_code\", \"speculation_score\", \"speculative_market\"]].head())"
   ]
  },
  {
   "cell_type": "code",
   "execution_count": null,
   "metadata": {},
   "outputs": [],
   "source": [
    "#Normalize features\n",
    "scaler = MinMaxScaler()\n",
    "df[[\"PIR\", \"PRR\", \"price_income_growth_diff\", \"speculation_score\"]] = scaler.fit_transform(df[[\"PIR\", \"PRR\", \"price_income_growth_diff\", \"speculation_score\"]])\n",
    "\n",
    "print(df.head())"
   ]
  },
  {
   "cell_type": "markdown",
   "metadata": {},
   "source": [
    "# Data Cleaning"
   ]
  },
  {
   "cell_type": "code",
   "execution_count": null,
   "metadata": {},
   "outputs": [],
   "source": [
    "# Identify missing values\n",
    "print(df.isnull().sum())\n",
    "\n",
    "# Fill missing values with median values (FIND WHATS BEST)\n",
    "df.fillna(df.median(), inplace=True)"
   ]
  },
  {
   "cell_type": "code",
   "execution_count": null,
   "metadata": {},
   "outputs": [],
   "source": [
    "# save data\n",
    "df.to_csv(\"processed_housing_data.csv\", index=False)\n",
    "print(\"Processed data saved successfully!\")"
   ]
  }
 ],
 "metadata": {
  "kernelspec": {
   "display_name": "base",
   "language": "python",
   "name": "python3"
  },
  "language_info": {
   "codemirror_mode": {
    "name": "ipython",
    "version": 3
   },
   "file_extension": ".py",
   "mimetype": "text/x-python",
   "name": "python",
   "nbconvert_exporter": "python",
   "pygments_lexer": "ipython3",
   "version": "3.11.7"
  }
 },
 "nbformat": 4,
 "nbformat_minor": 2
}
